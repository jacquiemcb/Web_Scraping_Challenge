{
 "cells": [
  {
   "cell_type": "code",
   "execution_count": 1,
   "metadata": {},
   "outputs": [],
   "source": [
    "from splinter import Browser\n",
    "from bs4 import BeautifulSoup\n",
    "import pandas as pd"
   ]
  },
  {
   "cell_type": "code",
   "execution_count": 2,
   "metadata": {},
   "outputs": [],
   "source": [
    "executable_path = {'executable_path': 'C:\\chromedriver.exe'}\n",
    "browser = Browser('chrome', **executable_path, headless=False)"
   ]
  },
  {
   "cell_type": "code",
   "execution_count": 3,
   "metadata": {},
   "outputs": [],
   "source": [
    "url_1 = 'https://mars.nasa.gov/news/'\n",
    "browser.visit(url_1)"
   ]
  },
  {
   "cell_type": "code",
   "execution_count": 4,
   "metadata": {},
   "outputs": [],
   "source": [
    "html = browser.html\n",
    "soup = BeautifulSoup(html, 'html.parser')"
   ]
  },
  {
   "cell_type": "code",
   "execution_count": 5,
   "metadata": {},
   "outputs": [],
   "source": [
    "#NASA MARS NEWS--------------\n",
    "\n",
    "soup_chunk_1 = soup.select_one('ul.item_list li.slide')\n",
    "news_title = soup_chunk_1.find(\"div\", class_='content_title').get_text()\n",
    "news_para = soup_chunk_1.find(\"div\", class_='article_teaser_body').get_text()\n",
    "                     \n",
    "    \n",
    "                                               \n"
   ]
  },
  {
   "cell_type": "code",
   "execution_count": 6,
   "metadata": {},
   "outputs": [
    {
     "name": "stdout",
     "output_type": "stream",
     "text": [
      "Mars Scientists Investigate Ancient Life in AustraliaTeams with NASA's Mars 2020 and ESA's ExoMars practiced hunting for fossilized microbial life in the Australian Outback in preparation for their Red Planet missions. \n"
     ]
    }
   ],
   "source": [
    "print(news_title + news_para)\n"
   ]
  },
  {
   "cell_type": "code",
   "execution_count": 7,
   "metadata": {},
   "outputs": [],
   "source": [
    "#FEATURED IMAGE--------\n",
    "\n",
    "featured_url_2 = 'https://www.jpl.nasa.gov/spaceimages/?search=&category=Mars'\n",
    "browser.visit(featured_url_2)"
   ]
  },
  {
   "cell_type": "code",
   "execution_count": 8,
   "metadata": {},
   "outputs": [],
   "source": [
    "first_click = browser.find_by_id('full_image')\n",
    "first_click.click()\n",
    "\n"
   ]
  },
  {
   "cell_type": "code",
   "execution_count": 9,
   "metadata": {},
   "outputs": [],
   "source": [
    "second_click = browser.find_link_by_partial_text('more info')\n",
    "second_click.click()"
   ]
  },
  {
   "cell_type": "code",
   "execution_count": 10,
   "metadata": {},
   "outputs": [],
   "source": [
    "html_2 = browser.html\n",
    "soup_2 = BeautifulSoup(html_2, 'html.parser')"
   ]
  },
  {
   "cell_type": "code",
   "execution_count": 11,
   "metadata": {},
   "outputs": [
    {
     "name": "stdout",
     "output_type": "stream",
     "text": [
      "/spaceimages/images/largesize/PIA18273_hires.jpg\n"
     ]
    }
   ],
   "source": [
    "partial_url = soup_2.select_one('figure.lede a img').get('src')\n",
    "print(partial_url)"
   ]
  },
  {
   "cell_type": "code",
   "execution_count": 12,
   "metadata": {},
   "outputs": [
    {
     "name": "stdout",
     "output_type": "stream",
     "text": [
      "https://www.jpl.nasa.gov/spaceimages/images/largesize/PIA18273_hires.jpg\n"
     ]
    }
   ],
   "source": [
    "partial_url = \"https://www.jpl.nasa.gov\" + partial_url\n",
    "print(partial_url)"
   ]
  },
  {
   "cell_type": "code",
   "execution_count": 13,
   "metadata": {},
   "outputs": [],
   "source": [
    "\n",
    "full_url = f'https://www.jpl.nasa.gov{partial_url}'"
   ]
  },
  {
   "cell_type": "code",
   "execution_count": 14,
   "metadata": {},
   "outputs": [
    {
     "name": "stdout",
     "output_type": "stream",
     "text": [
      "https://www.jpl.nasa.govhttps://www.jpl.nasa.gov/spaceimages/images/largesize/PIA18273_hires.jpg\n"
     ]
    }
   ],
   "source": [
    "print(full_url)"
   ]
  },
  {
   "cell_type": "code",
   "execution_count": 15,
   "metadata": {},
   "outputs": [],
   "source": [
    "#MARS WEATHER--------------\n",
    "weather_url_3 = 'https://twitter.com/marswxreport?lang=en'\n",
    "browser.visit(weather_url_3)\n",
    "html_3 = browser.html\n",
    "soup_3 = BeautifulSoup(html_3, 'html.parser')"
   ]
  },
  {
   "cell_type": "code",
   "execution_count": 16,
   "metadata": {},
   "outputs": [
    {
     "data": {
      "text/plain": [
       "<div class=\"tweet js-stream-tweet js-actionable-tweet js-profile-popup-actionable dismissible-content original-tweet js-original-tweet has-cards has-content\" data-conversation-id=\"1195459269694504960\" data-disclosure-type=\"\" data-follows-you=\"false\" data-has-cards=\"true\" data-item-id=\"1195459269694504960\" data-name=\"Mars Weather\" data-permalink-path=\"/MarsWxReport/status/1195459269694504960\" data-reply-to-users-json='[{\"id_str\":\"786939553\",\"screen_name\":\"MarsWxReport\",\"name\":\"Mars Weather\",\"emojified_name\":{\"text\":\"Mars Weather\",\"emojified_text_as_html\":\"Mars Weather\"}}]' data-screen-name=\"MarsWxReport\" data-tweet-id=\"1195459269694504960\" data-tweet-nonce=\"1195459269694504960-a9c20aa3-d02c-47ed-8b6a-1bd15a861037\" data-tweet-stat-initialized=\"true\" data-user-id=\"786939553\" data-you-block=\"false\" data-you-follow=\"false\">\n",
       "<div class=\"context\">\n",
       "</div>\n",
       "<div class=\"content\">\n",
       "<div class=\"stream-item-header\">\n",
       "<a class=\"account-group js-account-group js-action-profile js-user-profile-link js-nav\" data-user-id=\"786939553\" href=\"/MarsWxReport\">\n",
       "<img alt=\"\" class=\"avatar js-action-profile-avatar\" src=\"https://pbs.twimg.com/profile_images/2552209293/220px-Mars_atmosphere_bigger.jpg\"/>\n",
       "<span class=\"FullNameGroup\">\n",
       "<strong class=\"fullname show-popup-with-id u-textTruncate\" data-aria-label-part=\"\">Mars Weather</strong><span>‏</span><span class=\"UserBadges\"></span><span class=\"UserNameBreak\"> </span></span><span class=\"username u-dir u-textTruncate\" data-aria-label-part=\"\" dir=\"ltr\">@<b>MarsWxReport</b></span></a>\n",
       "<small class=\"time\">\n",
       "<a class=\"tweet-timestamp js-permalink js-nav js-tooltip\" data-conversation-id=\"1195459269694504960\" href=\"/MarsWxReport/status/1195459269694504960\" title=\"1:51 PM - 15 Nov 2019\"><span class=\"_timestamp js-short-timestamp\" data-aria-label-part=\"last\" data-long-form=\"true\" data-time=\"1573854675\" data-time-ms=\"1573854675000\">Nov 15</span></a>\n",
       "</small>\n",
       "<div class=\"ProfileTweet-action ProfileTweet-action--more js-more-ProfileTweet-actions\">\n",
       "<div class=\"dropdown\">\n",
       "<button aria-haspopup=\"true\" class=\"ProfileTweet-actionButton u-textUserColorHover dropdown-toggle js-dropdown-toggle\" type=\"button\">\n",
       "<div class=\"IconContainer js-tooltip\" title=\"More\">\n",
       "<span class=\"Icon Icon--caretDownLight Icon--small\"></span>\n",
       "<span class=\"u-hiddenVisually\">More</span>\n",
       "</div>\n",
       "</button>\n",
       "<div class=\"dropdown-menu is-autoCentered\">\n",
       "<div class=\"dropdown-caret\">\n",
       "<div class=\"caret-outer\"></div>\n",
       "<div class=\"caret-inner\"></div>\n",
       "</div>\n",
       "<ul>\n",
       "<li class=\"copy-link-to-tweet js-actionCopyLinkToTweet\">\n",
       "<button class=\"dropdown-link\" type=\"button\">Copy link to Tweet</button>\n",
       "</li>\n",
       "<li class=\"embed-link js-actionEmbedTweet\" data-nav=\"embed_tweet\">\n",
       "<button class=\"dropdown-link\" type=\"button\">Embed Tweet</button>\n",
       "</li>\n",
       "</ul>\n",
       "</div>\n",
       "</div>\n",
       "</div>\n",
       "</div>\n",
       "<div class=\"js-tweet-text-container\">\n",
       "<p class=\"TweetTextSize TweetTextSize--normal js-tweet-text tweet-text\" data-aria-label-part=\"0\" lang=\"en\">InSight sol 344 (2019-11-15) low -99.9ºC (-147.9ºF) high -23.3ºC (-9.9ºF)\n",
       "winds from the SSE at 5.7 m/s (12.9 mph) gusting to 18.9 m/s (42.3 mph)\n",
       "pressure at 6.80 hPa<a class=\"twitter-timeline-link u-hidden\" data-pre-embedded=\"true\" dir=\"ltr\" href=\"https://t.co/KfHgLqxVBk\">pic.twitter.com/KfHgLqxVBk</a></p>\n",
       "</div>\n",
       "<div class=\"AdaptiveMediaOuterContainer\">\n",
       "<div class=\"AdaptiveMedia is-square\">\n",
       "<div class=\"AdaptiveMedia-container\">\n",
       "<div class=\"AdaptiveMedia-singlePhoto\" style=\"padding-top: calc(0.5625 * 100% - 0.5px);\">\n",
       "<div class=\"AdaptiveMedia-photoContainer js-adaptive-photo\" data-dominant-color=\"[50,51,64]\" data-element-context=\"platform_photo_card\" data-image-url=\"https://pbs.twimg.com/media/EJcf3oAWoAE-BcI.jpg\" style=\"background-color:rgba(50,51,64,1.0);\">\n",
       "<img alt=\"\" data-aria-label-part=\"\" src=\"https://pbs.twimg.com/media/EJcf3oAWoAE-BcI.jpg\" style=\"width: 100%; top: -0px;\"/>\n",
       "</div>\n",
       "</div>\n",
       "</div>\n",
       "</div>\n",
       "</div>\n",
       "<div class=\"stream-item-footer\">\n",
       "<div class=\"ProfileTweet-actionCountList u-hiddenVisually\">\n",
       "<span class=\"ProfileTweet-action--reply u-hiddenVisually\">\n",
       "<span aria-hidden=\"true\" class=\"ProfileTweet-actionCount\" data-tweet-stat-count=\"0\">\n",
       "<span class=\"ProfileTweet-actionCountForAria\" id=\"profile-tweet-action-reply-count-aria-1195459269694504960\">0 replies</span>\n",
       "</span>\n",
       "</span>\n",
       "<span class=\"ProfileTweet-action--retweet u-hiddenVisually\">\n",
       "<span class=\"ProfileTweet-actionCount\" data-tweet-stat-count=\"6\">\n",
       "<span class=\"ProfileTweet-actionCountForAria\" data-aria-label-part=\"\" id=\"profile-tweet-action-retweet-count-aria-1195459269694504960\">6 retweets</span>\n",
       "</span>\n",
       "</span>\n",
       "<span class=\"ProfileTweet-action--favorite u-hiddenVisually\">\n",
       "<span class=\"ProfileTweet-actionCount\" data-tweet-stat-count=\"17\">\n",
       "<span class=\"ProfileTweet-actionCountForAria\" data-aria-label-part=\"\" id=\"profile-tweet-action-favorite-count-aria-1195459269694504960\">17 likes</span>\n",
       "</span>\n",
       "</span>\n",
       "</div>\n",
       "<div aria-label=\"Tweet actions\" class=\"ProfileTweet-actionList js-actions\" role=\"group\">\n",
       "<div class=\"ProfileTweet-action ProfileTweet-action--reply\">\n",
       "<button aria-describedby=\"profile-tweet-action-reply-count-aria-1195459269694504960\" class=\"ProfileTweet-actionButton js-actionButton js-actionReply\" data-modal=\"ProfileTweet-reply\" type=\"button\">\n",
       "<div class=\"IconContainer js-tooltip\" title=\"Reply\">\n",
       "<span class=\"Icon Icon--medium Icon--reply\"></span>\n",
       "<span class=\"u-hiddenVisually\">Reply</span>\n",
       "</div>\n",
       "<span class=\"ProfileTweet-actionCount ProfileTweet-actionCount--isZero\">\n",
       "<span aria-hidden=\"true\" class=\"ProfileTweet-actionCountForPresentation\"></span>\n",
       "</span>\n",
       "</button>\n",
       "</div>\n",
       "<div class=\"ProfileTweet-action ProfileTweet-action--retweet js-toggleState js-toggleRt\">\n",
       "<button aria-describedby=\"profile-tweet-action-retweet-count-aria-1195459269694504960\" class=\"ProfileTweet-actionButton js-actionButton js-actionRetweet\" data-modal=\"ProfileTweet-retweet\" type=\"button\">\n",
       "<div class=\"IconContainer js-tooltip\" title=\"Retweet\">\n",
       "<span class=\"Icon Icon--medium Icon--retweet\"></span>\n",
       "<span class=\"u-hiddenVisually\">Retweet</span>\n",
       "</div>\n",
       "<span class=\"ProfileTweet-actionCount\">\n",
       "<span aria-hidden=\"true\" class=\"ProfileTweet-actionCountForPresentation\">6</span>\n",
       "</span>\n",
       "</button><button class=\"ProfileTweet-actionButtonUndo js-actionButton js-actionRetweet\" data-modal=\"ProfileTweet-retweet\" type=\"button\">\n",
       "<div class=\"IconContainer js-tooltip\" title=\"Undo retweet\">\n",
       "<span class=\"Icon Icon--medium Icon--retweet\"></span>\n",
       "<span class=\"u-hiddenVisually\">Retweeted</span>\n",
       "</div>\n",
       "<span class=\"ProfileTweet-actionCount\">\n",
       "<span aria-hidden=\"true\" class=\"ProfileTweet-actionCountForPresentation\">6</span>\n",
       "</span>\n",
       "</button>\n",
       "</div>\n",
       "<div class=\"ProfileTweet-action ProfileTweet-action--favorite js-toggleState\">\n",
       "<button aria-describedby=\"profile-tweet-action-favorite-count-aria-1195459269694504960\" class=\"ProfileTweet-actionButton js-actionButton js-actionFavorite\" type=\"button\">\n",
       "<div class=\"IconContainer js-tooltip\" title=\"Like\">\n",
       "<span class=\"Icon Icon--heart Icon--medium\" role=\"presentation\"></span>\n",
       "<div class=\"HeartAnimation\"></div>\n",
       "<span class=\"u-hiddenVisually\">Like</span>\n",
       "</div>\n",
       "<span class=\"ProfileTweet-actionCount\">\n",
       "<span aria-hidden=\"true\" class=\"ProfileTweet-actionCountForPresentation\">17</span>\n",
       "</span>\n",
       "</button><button class=\"ProfileTweet-actionButtonUndo ProfileTweet-action--unfavorite u-linkClean js-actionButton js-actionFavorite\" type=\"button\">\n",
       "<div class=\"IconContainer js-tooltip\" title=\"Undo like\">\n",
       "<span class=\"Icon Icon--heart Icon--medium\" role=\"presentation\"></span>\n",
       "<div class=\"HeartAnimation\"></div>\n",
       "<span class=\"u-hiddenVisually\">Liked</span>\n",
       "</div>\n",
       "<span class=\"ProfileTweet-actionCount\">\n",
       "<span aria-hidden=\"true\" class=\"ProfileTweet-actionCountForPresentation\">17</span>\n",
       "</span>\n",
       "</button>\n",
       "</div>\n",
       "</div>\n",
       "</div>\n",
       "</div>\n",
       "</div>"
      ]
     },
     "execution_count": 16,
     "metadata": {},
     "output_type": "execute_result"
    }
   ],
   "source": [
    "mars_weather_tweet = soup_3.find('div', attrs={\"class\": \"tweet\", \"data-name\": \"Mars Weather\"})\n",
    "\n",
    "mars_weather_tweet\n",
    "   "
   ]
  },
  {
   "cell_type": "code",
   "execution_count": 17,
   "metadata": {},
   "outputs": [
    {
     "name": "stdout",
     "output_type": "stream",
     "text": [
      "InSight sol 344 (2019-11-15) low -99.9ºC (-147.9ºF) high -23.3ºC (-9.9ºF)\n",
      "winds from the SSE at 5.7 m/s (12.9 mph) gusting to 18.9 m/s (42.3 mph)\n",
      "pressure at 6.80 hPapic.twitter.com/KfHgLqxVBk\n"
     ]
    }
   ],
   "source": [
    "mars_weather_tweet_text = mars_weather_tweet.find('p', 'tweet-text').get_text()\n",
    "print(mars_weather_tweet_text)"
   ]
  },
  {
   "cell_type": "code",
   "execution_count": 18,
   "metadata": {},
   "outputs": [],
   "source": [
    "def tweets_not_timeline_link(tag):\n",
    "    return tag.has_attr('class') and not tag.has_attr('id')\n",
    "\n",
    "try1 = mars_weather_tweet.find_all(tweets_not_timeline_link)\n"
   ]
  },
  {
   "cell_type": "code",
   "execution_count": 19,
   "metadata": {},
   "outputs": [],
   "source": [
    "def tweets_not_timeline_link(tag):\n",
    "    return tag.has_attr('class') and not tag.has_attr('id')\n",
    "\n",
    "try1 = mars_weather_tweet.find_all(tweets_not_timeline_link)"
   ]
  },
  {
   "cell_type": "code",
   "execution_count": 20,
   "metadata": {},
   "outputs": [
    {
     "data": {
      "text/plain": [
       "[                      0                              1\n",
       " 0  Equatorial Diameter:                       6,792 km\n",
       " 1       Polar Diameter:                       6,752 km\n",
       " 2                 Mass:  6.39 × 10^23 kg (0.11 Earths)\n",
       " 3                Moons:            2 (Phobos & Deimos)\n",
       " 4       Orbit Distance:       227,943,824 km (1.38 AU)\n",
       " 5         Orbit Period:           687 days (1.9 years)\n",
       " 6  Surface Temperature:                   -87 to -5 °C\n",
       " 7         First Record:              2nd millennium BC\n",
       " 8          Recorded By:           Egyptian astronomers,\n",
       "   Mars - Earth Comparison             Mars            Earth\n",
       " 0               Diameter:         6,779 km        12,742 km\n",
       " 1                   Mass:  6.39 × 10^23 kg  5.97 × 10^24 kg\n",
       " 2                  Moons:                2                1\n",
       " 3      Distance from Sun:   227,943,824 km   149,598,262 km\n",
       " 4         Length of Year:   687 Earth days      365.24 days\n",
       " 5            Temperature:    -153 to 20 °C      -88 to 58°C,\n",
       "                       0                              1\n",
       " 0  Equatorial Diameter:                       6,792 km\n",
       " 1       Polar Diameter:                       6,752 km\n",
       " 2                 Mass:  6.39 × 10^23 kg (0.11 Earths)\n",
       " 3                Moons:            2 (Phobos & Deimos)\n",
       " 4       Orbit Distance:       227,943,824 km (1.38 AU)\n",
       " 5         Orbit Period:           687 days (1.9 years)\n",
       " 6  Surface Temperature:                   -87 to -5 °C\n",
       " 7         First Record:              2nd millennium BC\n",
       " 8          Recorded By:           Egyptian astronomers]"
      ]
     },
     "execution_count": 20,
     "metadata": {},
     "output_type": "execute_result"
    }
   ],
   "source": [
    "#MARS FACTS\n",
    "tables = pd.read_html('http://space-facts.com/mars/')\n",
    "tables"
   ]
  },
  {
   "cell_type": "code",
   "execution_count": 21,
   "metadata": {},
   "outputs": [
    {
     "data": {
      "text/html": [
       "<div>\n",
       "<style scoped>\n",
       "    .dataframe tbody tr th:only-of-type {\n",
       "        vertical-align: middle;\n",
       "    }\n",
       "\n",
       "    .dataframe tbody tr th {\n",
       "        vertical-align: top;\n",
       "    }\n",
       "\n",
       "    .dataframe thead th {\n",
       "        text-align: right;\n",
       "    }\n",
       "</style>\n",
       "<table border=\"1\" class=\"dataframe\">\n",
       "  <thead>\n",
       "    <tr style=\"text-align: right;\">\n",
       "      <th></th>\n",
       "      <th>Description</th>\n",
       "      <th>Facts</th>\n",
       "    </tr>\n",
       "  </thead>\n",
       "  <tbody>\n",
       "    <tr>\n",
       "      <th>0</th>\n",
       "      <td>Equatorial Diameter:</td>\n",
       "      <td>6,792 km</td>\n",
       "    </tr>\n",
       "    <tr>\n",
       "      <th>1</th>\n",
       "      <td>Polar Diameter:</td>\n",
       "      <td>6,752 km</td>\n",
       "    </tr>\n",
       "    <tr>\n",
       "      <th>2</th>\n",
       "      <td>Mass:</td>\n",
       "      <td>6.39 × 10^23 kg (0.11 Earths)</td>\n",
       "    </tr>\n",
       "    <tr>\n",
       "      <th>3</th>\n",
       "      <td>Moons:</td>\n",
       "      <td>2 (Phobos &amp; Deimos)</td>\n",
       "    </tr>\n",
       "    <tr>\n",
       "      <th>4</th>\n",
       "      <td>Orbit Distance:</td>\n",
       "      <td>227,943,824 km (1.38 AU)</td>\n",
       "    </tr>\n",
       "    <tr>\n",
       "      <th>5</th>\n",
       "      <td>Orbit Period:</td>\n",
       "      <td>687 days (1.9 years)</td>\n",
       "    </tr>\n",
       "    <tr>\n",
       "      <th>6</th>\n",
       "      <td>Surface Temperature:</td>\n",
       "      <td>-87 to -5 °C</td>\n",
       "    </tr>\n",
       "    <tr>\n",
       "      <th>7</th>\n",
       "      <td>First Record:</td>\n",
       "      <td>2nd millennium BC</td>\n",
       "    </tr>\n",
       "    <tr>\n",
       "      <th>8</th>\n",
       "      <td>Recorded By:</td>\n",
       "      <td>Egyptian astronomers</td>\n",
       "    </tr>\n",
       "  </tbody>\n",
       "</table>\n",
       "</div>"
      ],
      "text/plain": [
       "            Description                          Facts\n",
       "0  Equatorial Diameter:                       6,792 km\n",
       "1       Polar Diameter:                       6,752 km\n",
       "2                 Mass:  6.39 × 10^23 kg (0.11 Earths)\n",
       "3                Moons:            2 (Phobos & Deimos)\n",
       "4       Orbit Distance:       227,943,824 km (1.38 AU)\n",
       "5         Orbit Period:           687 days (1.9 years)\n",
       "6  Surface Temperature:                   -87 to -5 °C\n",
       "7         First Record:              2nd millennium BC\n",
       "8          Recorded By:           Egyptian astronomers"
      ]
     },
     "execution_count": 21,
     "metadata": {},
     "output_type": "execute_result"
    }
   ],
   "source": [
    "table_df = tables[0]\n",
    "table_df.columns = ['Description','Facts']\n",
    "table_df"
   ]
  },
  {
   "cell_type": "code",
   "execution_count": 22,
   "metadata": {},
   "outputs": [
    {
     "data": {
      "text/plain": [
       "'<table border=\"1\" class=\"dataframe\">\\n  <thead>\\n    <tr style=\"text-align: right;\">\\n      <th></th>\\n      <th>Description</th>\\n      <th>Facts</th>\\n    </tr>\\n  </thead>\\n  <tbody>\\n    <tr>\\n      <th>0</th>\\n      <td>Equatorial Diameter:</td>\\n      <td>6,792 km</td>\\n    </tr>\\n    <tr>\\n      <th>1</th>\\n      <td>Polar Diameter:</td>\\n      <td>6,752 km</td>\\n    </tr>\\n    <tr>\\n      <th>2</th>\\n      <td>Mass:</td>\\n      <td>6.39 × 10^23 kg (0.11 Earths)</td>\\n    </tr>\\n    <tr>\\n      <th>3</th>\\n      <td>Moons:</td>\\n      <td>2 (Phobos &amp; Deimos)</td>\\n    </tr>\\n    <tr>\\n      <th>4</th>\\n      <td>Orbit Distance:</td>\\n      <td>227,943,824 km (1.38 AU)</td>\\n    </tr>\\n    <tr>\\n      <th>5</th>\\n      <td>Orbit Period:</td>\\n      <td>687 days (1.9 years)</td>\\n    </tr>\\n    <tr>\\n      <th>6</th>\\n      <td>Surface Temperature:</td>\\n      <td>-87 to -5 °C</td>\\n    </tr>\\n    <tr>\\n      <th>7</th>\\n      <td>First Record:</td>\\n      <td>2nd millennium BC</td>\\n    </tr>\\n    <tr>\\n      <th>8</th>\\n      <td>Recorded By:</td>\\n      <td>Egyptian astronomers</td>\\n    </tr>\\n  </tbody>\\n</table>'"
      ]
     },
     "execution_count": 22,
     "metadata": {},
     "output_type": "execute_result"
    }
   ],
   "source": [
    "table_df.to_html()\n"
   ]
  },
  {
   "cell_type": "code",
   "execution_count": 23,
   "metadata": {},
   "outputs": [
    {
     "data": {
      "text/plain": [
       "'https://astrogeology.usgs.gov/search/results?q=hemisphere+enhanced&k1=target&v1=Mars'"
      ]
     },
     "execution_count": 23,
     "metadata": {},
     "output_type": "execute_result"
    }
   ],
   "source": [
    "#MARS HEMISPHERE\n",
    "hemisphere_url = 'https://astrogeology.usgs.gov/search/results?q=hemisphere+enhanced&k1=target&v1=Mars'\n",
    "browser.visit(hemisphere_url)\n",
    "html_hemisphere = browser.html\n",
    "soup_hemisphere = BeautifulSoup(html_hemisphere, 'html.parser')\n",
    "\n",
    "hemisphere_url\n"
   ]
  },
  {
   "cell_type": "code",
   "execution_count": 24,
   "metadata": {},
   "outputs": [],
   "source": [
    "links = browser.find_by_css(\"a.product-item h3\")\n",
    "    \n",
    "    "
   ]
  },
  {
   "cell_type": "code",
   "execution_count": 25,
   "metadata": {},
   "outputs": [
    {
     "name": "stdout",
     "output_type": "stream",
     "text": [
      "<splinter.element_list.ElementList object at 0x000001AF7751E248>\n"
     ]
    }
   ],
   "source": [
    "print(links)"
   ]
  },
  {
   "cell_type": "code",
   "execution_count": 26,
   "metadata": {},
   "outputs": [],
   "source": [
    "hemisphere_image_urls = []\n",
    "\n",
    "# First, get a list of all of the hemispheres\n",
    "links = browser.find_by_css(\"a.product-item h3\")\n",
    "counter = 0\n",
    "\n",
    "# Next, loop through those links, click the link, find the sample anchor, return the href\n",
    "for i in range(len(links)):\n",
    "    counter += 1\n",
    "    \n",
    "    \n",
    "    hemisphere = {}\n",
    "\n",
    "    \n",
    "   # We have to find the elements on each loop to avoid a stale element exception\n",
    "    browser.find_by_css(\"a.product-item h3\")[i].click()\n",
    "\n",
    "   # Next, we find the Sample image anchor tag and extract the href\n",
    "    sample_elem = browser.find_link_by_text('Sample').first\n",
    "    hemisphere['img_url'] = sample_elem['href']\n",
    "\n",
    "   # Get Hemisphere title\n",
    "    hemisphere['title'] = browser.find_by_css(\"h2.title\").text + f\"{counter}\"\n",
    "\n",
    "   # Append hemisphere object to list\n",
    "    hemisphere_image_urls.append(hemisphere)\n",
    "    \n",
    "     # Finally, we navigate backwards\n",
    "    browser.back()"
   ]
  },
  {
   "cell_type": "code",
   "execution_count": 27,
   "metadata": {},
   "outputs": [
    {
     "data": {
      "text/plain": [
       "[{'img_url': 'http://astropedia.astrogeology.usgs.gov/download/Mars/Viking/cerberus_enhanced.tif/full.jpg',\n",
       "  'title': 'Cerberus Hemisphere Enhanced1'},\n",
       " {'img_url': 'http://astropedia.astrogeology.usgs.gov/download/Mars/Viking/schiaparelli_enhanced.tif/full.jpg',\n",
       "  'title': 'Schiaparelli Hemisphere Enhanced2'},\n",
       " {'img_url': 'http://astropedia.astrogeology.usgs.gov/download/Mars/Viking/syrtis_major_enhanced.tif/full.jpg',\n",
       "  'title': 'Syrtis Major Hemisphere Enhanced3'},\n",
       " {'img_url': 'http://astropedia.astrogeology.usgs.gov/download/Mars/Viking/valles_marineris_enhanced.tif/full.jpg',\n",
       "  'title': 'Valles Marineris Hemisphere Enhanced4'}]"
      ]
     },
     "execution_count": 27,
     "metadata": {},
     "output_type": "execute_result"
    }
   ],
   "source": [
    "hemisphere_image_urls"
   ]
  },
  {
   "cell_type": "code",
   "execution_count": null,
   "metadata": {},
   "outputs": [],
   "source": []
  }
 ],
 "metadata": {
  "kernelspec": {
   "display_name": "Python 3",
   "language": "python",
   "name": "python3"
  },
  "language_info": {
   "codemirror_mode": {
    "name": "ipython",
    "version": 3
   },
   "file_extension": ".py",
   "mimetype": "text/x-python",
   "name": "python",
   "nbconvert_exporter": "python",
   "pygments_lexer": "ipython3",
   "version": "3.7.4"
  }
 },
 "nbformat": 4,
 "nbformat_minor": 2
}
